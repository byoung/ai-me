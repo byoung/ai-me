{
 "cells": [
  {
   "cell_type": "markdown",
   "id": "8a10f10b",
   "metadata": {},
   "source": [
    "# Setup Environment"
   ]
  },
  {
   "cell_type": "code",
   "execution_count": null,
   "id": "833c0398",
   "metadata": {},
   "outputs": [],
   "source": [
    "# Setup configuration\n",
    "import sys\n",
    "sys.path.append('/Users/benyoung/projects/ai-me')\n",
    "\n",
    "from src.config import Config\n",
    "from IPython.display import Markdown\n",
    "from agents import trace, Runner, Agent, Tool\n",
    "\n",
    "config = Config()\n",
    "\n",
    "print(config)"
   ]
  },
  {
   "cell_type": "markdown",
   "id": "e53b0ec4",
   "metadata": {},
   "source": [
    "# Download, Load, Chunk, Vectorize and Store md files in Chroma"
   ]
  },
  {
   "cell_type": "code",
   "execution_count": null,
   "id": "315075c8",
   "metadata": {},
   "outputs": [],
   "source": [
    "from importlib import reload\n",
    "import src.data as _data_module\n",
    "reload(_data_module)\n",
    "from src.data import DataManager\n",
    "\n",
    "\n",
    "# Use consolidated data manager\n",
    "# For some reason, the glob pattern does not follow symlinks properly, so specify directly here\n",
    "data_manager = DataManager(\n",
    "    doc_load_local=[\"me/**/*.md\"],\n",
    "    github_repos=config.github_repos\n",
    ")\n",
    "\n",
    "# Load all repos configured in config.github_repos (automatically loads based on list presence)\n",
    "chunks = data_manager.load_and_process_all(github_repos=config.github_repos)\n",
    "\n",
    "print(f\"Total chunks created: {len(chunks)}\")\n",
    "\n",
    "# Create the vectorstore using DataManager\n",
    "vectorstore = data_manager.create_vectorstore(chunks, reset=True)\n",
    "retriever = vectorstore.as_retriever()\n",
    "\n",
    "\n",
    "data_manager.show_docs_for_file(\"faq.md\")\n"
   ]
  },
  {
   "cell_type": "markdown",
   "id": "0c35378f",
   "metadata": {},
   "source": [
    "# Setup Agents"
   ]
  },
  {
   "cell_type": "code",
   "execution_count": null,
   "id": "ff276c4a",
   "metadata": {},
   "outputs": [],
   "source": [
    "from src.agent import AgentConfig\n",
    "\n",
    "# Initialize agent config with vectorstore\n",
    "agent_config = AgentConfig(\n",
    "    bot_full_name=config.bot_full_name, \n",
    "    github_token=config.github_token.get_secret_value(),\n",
    "    model=config.model,\n",
    "    vectorstore=vectorstore\n",
    ")\n",
    "\n",
    "ai_me = await agent_config.create_ai_me_agent()\n"
   ]
  },
  {
   "cell_type": "markdown",
   "id": "28574530",
   "metadata": {},
   "source": [
    "# Run Agent Tests"
   ]
  },
  {
   "cell_type": "code",
   "execution_count": null,
   "id": "578d3514",
   "metadata": {},
   "outputs": [],
   "source": [
    "# Reload agent module to pick up latest changes\n",
    "import src.agent as _agent_module\n",
    "reload(_agent_module)\n",
    "from src.agent import AgentConfig\n",
    "\n",
    "# Recreate agent config with updated module\n",
    "agent_config = AgentConfig(\n",
    "    bot_full_name=config.bot_full_name, \n",
    "    github_token=config.github_token.get_secret_value(),\n",
    "    model=config.model,\n",
    "    vectorstore=vectorstore\n",
    ")\n",
    "\n",
    "# Create agent with custom prompt\n",
    "ai_me = await agent_config.create_ai_me_agent(\n",
    "    agent_prompt=\"\"\"\n",
    "You are acting as somebody who personifying {self.bot_full_name} and must follow these rules:\n",
    " * If the user asks a question, use the get_local_info tool to gather more info\n",
    " * Answer based on the information given to you by the tool calls\n",
    " * do not offer follow up questions, just answer the question\n",
    " * Add Reference-style links if they contain https://github.com\n",
    " * Get the current time if the user asks a time relative question\n",
    " * Only search the following list of GitHub repos Neosofia/corporate, byoung/me, byoung/ai-me\n",
    "  \"\"\")\n",
    "\n",
    "with trace(\"test-1\"):\n",
    "    result = await Runner.run(ai_me, \"What do you know about ReaR?\")\n",
    "\n",
    "display(Markdown(result.final_output))\n"
   ]
  },
  {
   "cell_type": "code",
   "execution_count": null,
   "id": "d8062817",
   "metadata": {},
   "outputs": [],
   "source": [
    "with trace(\"test-2\"):\n",
    "    result = await Runner.run(ai_me, \"What do you know about python?\")\n",
    "display(Markdown(result.final_output))\n"
   ]
  },
  {
   "cell_type": "code",
   "execution_count": null,
   "id": "c409eb57",
   "metadata": {},
   "outputs": [],
   "source": [
    "with trace(\"test-3\"):\n",
    "    result = await Runner.run(ai_me, \"Give me a summary of all the commits you've made in the last week\")\n",
    "display(Markdown(result.final_output))\n"
   ]
  },
  {
   "cell_type": "code",
   "execution_count": null,
   "id": "4c57f275",
   "metadata": {},
   "outputs": [],
   "source": [
    "with trace(\"test-4\"):\n",
    "    result = await Runner.run(ai_me, \"who is slartibartfast?\")\n",
    "display(Markdown(result.final_output))"
   ]
  },
  {
   "cell_type": "code",
   "execution_count": null,
   "id": "169e5d05",
   "metadata": {},
   "outputs": [],
   "source": [
    "import gradio\n",
    "\n",
    "async def chat(user_input: str, history):\n",
    "    print(\"================== USER ===================\")\n",
    "    print(user_input)\n",
    "\n",
    "    result = await Runner.run(ai_me, user_input)\n",
    "\n",
    "    print(\"================== AGENT ==================\")\n",
    "    print(result.final_output)\n",
    "    return result.final_output\n",
    "\n",
    "with gradio.Blocks(theme=gradio.themes.Ocean()) as ui:\n",
    "\n",
    "    gradio.Markdown(f\"\"\"# Welcome to {config.app_name}\n",
    "                    The digital version of {config.bot_full_name}\n",
    "                    The digital assistant that you never knew you needed ;)\n",
    "                    Feel free to ask me anything about my experience, skills, projects, and interests.\n",
    "                    \"\"\")\n",
    "    gradio.ChatInterface(chat, type=\"messages\")\n",
    "\n",
    "ui.launch()"
   ]
  },
  {
   "cell_type": "markdown",
   "id": "63b47aa6",
   "metadata": {},
   "source": [
    "# The End"
   ]
  },
  {
   "cell_type": "markdown",
   "id": "99a900d2",
   "metadata": {},
   "source": []
  },
  {
   "cell_type": "markdown",
   "id": "4a11e0c7",
   "metadata": {},
   "source": []
  }
 ],
 "metadata": {
  "kernelspec": {
   "display_name": "ai-me (3.12.11)",
   "language": "python",
   "name": "python3"
  },
  "language_info": {
   "codemirror_mode": {
    "name": "ipython",
    "version": 3
   },
   "file_extension": ".py",
   "mimetype": "text/x-python",
   "name": "python",
   "nbconvert_exporter": "python",
   "pygments_lexer": "ipython3",
   "version": "3.12.11"
  }
 },
 "nbformat": 4,
 "nbformat_minor": 5
}
